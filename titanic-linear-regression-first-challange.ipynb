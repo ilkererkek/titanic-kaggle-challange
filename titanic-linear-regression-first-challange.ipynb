{
 "cells": [
  {
   "cell_type": "code",
   "execution_count": 1,
   "id": "fe5a5d53",
   "metadata": {
    "_cell_guid": "b1076dfc-b9ad-4769-8c92-a6c4dae69d19",
    "_uuid": "8f2839f25d086af736a60e9eeb907d3b93b6e0e5",
    "execution": {
     "iopub.execute_input": "2021-12-15T19:14:04.500039Z",
     "iopub.status.busy": "2021-12-15T19:14:04.498794Z",
     "iopub.status.idle": "2021-12-15T19:14:10.710682Z",
     "shell.execute_reply": "2021-12-15T19:14:10.709848Z",
     "shell.execute_reply.started": "2021-12-15T19:12:35.702407Z"
    },
    "papermill": {
     "duration": 6.247097,
     "end_time": "2021-12-15T19:14:10.710853",
     "exception": false,
     "start_time": "2021-12-15T19:14:04.463756",
     "status": "completed"
    },
    "tags": []
   },
   "outputs": [],
   "source": [
    "import numpy as np # linear algebra\n",
    "import pandas as pd # data processing, CSV file I/O (e.g. pd.read_csv)\n",
    "import tensorflow as tf\n",
    "import seaborn as sns\n",
    "from tensorflow import feature_column as fc"
   ]
  },
  {
   "cell_type": "code",
   "execution_count": 3,
   "id": "f6075424",
   "metadata": {
    "execution": {
     "iopub.execute_input": "2021-12-15T19:14:10.851763Z",
     "iopub.status.busy": "2021-12-15T19:14:10.851078Z",
     "iopub.status.idle": "2021-12-15T19:14:10.881533Z",
     "shell.execute_reply": "2021-12-15T19:14:10.882145Z",
     "shell.execute_reply.started": "2021-12-15T19:12:35.728672Z"
    },
    "papermill": {
     "duration": 0.066375,
     "end_time": "2021-12-15T19:14:10.882341",
     "exception": false,
     "start_time": "2021-12-15T19:14:10.815966",
     "status": "completed"
    },
    "tags": []
   },
   "outputs": [],
   "source": [
    "train_data = pd.read_csv('./train.csv')\n",
    "test_data = pd.read_csv('./test.csv')"
   ]
  },
  {
   "cell_type": "code",
   "execution_count": 4,
   "id": "daa236db",
   "metadata": {
    "execution": {
     "iopub.execute_input": "2021-12-15T19:14:10.946486Z",
     "iopub.status.busy": "2021-12-15T19:14:10.945861Z",
     "iopub.status.idle": "2021-12-15T19:14:10.951949Z",
     "shell.execute_reply": "2021-12-15T19:14:10.951253Z",
     "shell.execute_reply.started": "2021-12-15T19:12:35.749696Z"
    },
    "papermill": {
     "duration": 0.039377,
     "end_time": "2021-12-15T19:14:10.952138",
     "exception": false,
     "start_time": "2021-12-15T19:14:10.912761",
     "status": "completed"
    },
    "tags": []
   },
   "outputs": [
    {
     "name": "stdout",
     "output_type": "stream",
     "text": [
      "(891, 12)\n",
      "(418, 11)\n"
     ]
    }
   ],
   "source": [
    "#Let's see the shape of our datasets\n",
    "print(train_data.shape)\n",
    "print(test_data.shape)"
   ]
  },
  {
   "cell_type": "code",
   "execution_count": 5,
   "id": "92bfe0bf",
   "metadata": {
    "execution": {
     "iopub.execute_input": "2021-12-15T19:14:11.017228Z",
     "iopub.status.busy": "2021-12-15T19:14:11.016559Z",
     "iopub.status.idle": "2021-12-15T19:14:11.039300Z",
     "shell.execute_reply": "2021-12-15T19:14:11.039820Z",
     "shell.execute_reply.started": "2021-12-15T19:12:35.755830Z"
    },
    "papermill": {
     "duration": 0.05658,
     "end_time": "2021-12-15T19:14:11.039997",
     "exception": false,
     "start_time": "2021-12-15T19:14:10.983417",
     "status": "completed"
    },
    "tags": []
   },
   "outputs": [
    {
     "data": {
      "text/html": [
       "<div>\n",
       "<style scoped>\n",
       "    .dataframe tbody tr th:only-of-type {\n",
       "        vertical-align: middle;\n",
       "    }\n",
       "\n",
       "    .dataframe tbody tr th {\n",
       "        vertical-align: top;\n",
       "    }\n",
       "\n",
       "    .dataframe thead th {\n",
       "        text-align: right;\n",
       "    }\n",
       "</style>\n",
       "<table border=\"1\" class=\"dataframe\">\n",
       "  <thead>\n",
       "    <tr style=\"text-align: right;\">\n",
       "      <th></th>\n",
       "      <th>PassengerId</th>\n",
       "      <th>Survived</th>\n",
       "      <th>Pclass</th>\n",
       "      <th>Name</th>\n",
       "      <th>Sex</th>\n",
       "      <th>Age</th>\n",
       "      <th>SibSp</th>\n",
       "      <th>Parch</th>\n",
       "      <th>Ticket</th>\n",
       "      <th>Fare</th>\n",
       "      <th>Cabin</th>\n",
       "      <th>Embarked</th>\n",
       "    </tr>\n",
       "  </thead>\n",
       "  <tbody>\n",
       "    <tr>\n",
       "      <th>0</th>\n",
       "      <td>1</td>\n",
       "      <td>0</td>\n",
       "      <td>3</td>\n",
       "      <td>Braund, Mr. Owen Harris</td>\n",
       "      <td>male</td>\n",
       "      <td>22.0</td>\n",
       "      <td>1</td>\n",
       "      <td>0</td>\n",
       "      <td>A/5 21171</td>\n",
       "      <td>7.2500</td>\n",
       "      <td>NaN</td>\n",
       "      <td>S</td>\n",
       "    </tr>\n",
       "    <tr>\n",
       "      <th>1</th>\n",
       "      <td>2</td>\n",
       "      <td>1</td>\n",
       "      <td>1</td>\n",
       "      <td>Cumings, Mrs. John Bradley (Florence Briggs Th...</td>\n",
       "      <td>female</td>\n",
       "      <td>38.0</td>\n",
       "      <td>1</td>\n",
       "      <td>0</td>\n",
       "      <td>PC 17599</td>\n",
       "      <td>71.2833</td>\n",
       "      <td>C85</td>\n",
       "      <td>C</td>\n",
       "    </tr>\n",
       "    <tr>\n",
       "      <th>2</th>\n",
       "      <td>3</td>\n",
       "      <td>1</td>\n",
       "      <td>3</td>\n",
       "      <td>Heikkinen, Miss. Laina</td>\n",
       "      <td>female</td>\n",
       "      <td>26.0</td>\n",
       "      <td>0</td>\n",
       "      <td>0</td>\n",
       "      <td>STON/O2. 3101282</td>\n",
       "      <td>7.9250</td>\n",
       "      <td>NaN</td>\n",
       "      <td>S</td>\n",
       "    </tr>\n",
       "    <tr>\n",
       "      <th>3</th>\n",
       "      <td>4</td>\n",
       "      <td>1</td>\n",
       "      <td>1</td>\n",
       "      <td>Futrelle, Mrs. Jacques Heath (Lily May Peel)</td>\n",
       "      <td>female</td>\n",
       "      <td>35.0</td>\n",
       "      <td>1</td>\n",
       "      <td>0</td>\n",
       "      <td>113803</td>\n",
       "      <td>53.1000</td>\n",
       "      <td>C123</td>\n",
       "      <td>S</td>\n",
       "    </tr>\n",
       "    <tr>\n",
       "      <th>4</th>\n",
       "      <td>5</td>\n",
       "      <td>0</td>\n",
       "      <td>3</td>\n",
       "      <td>Allen, Mr. William Henry</td>\n",
       "      <td>male</td>\n",
       "      <td>35.0</td>\n",
       "      <td>0</td>\n",
       "      <td>0</td>\n",
       "      <td>373450</td>\n",
       "      <td>8.0500</td>\n",
       "      <td>NaN</td>\n",
       "      <td>S</td>\n",
       "    </tr>\n",
       "  </tbody>\n",
       "</table>\n",
       "</div>"
      ],
      "text/plain": [
       "   PassengerId  Survived  Pclass  \\\n",
       "0            1         0       3   \n",
       "1            2         1       1   \n",
       "2            3         1       3   \n",
       "3            4         1       1   \n",
       "4            5         0       3   \n",
       "\n",
       "                                                Name     Sex   Age  SibSp  \\\n",
       "0                            Braund, Mr. Owen Harris    male  22.0      1   \n",
       "1  Cumings, Mrs. John Bradley (Florence Briggs Th...  female  38.0      1   \n",
       "2                             Heikkinen, Miss. Laina  female  26.0      0   \n",
       "3       Futrelle, Mrs. Jacques Heath (Lily May Peel)  female  35.0      1   \n",
       "4                           Allen, Mr. William Henry    male  35.0      0   \n",
       "\n",
       "   Parch            Ticket     Fare Cabin Embarked  \n",
       "0      0         A/5 21171   7.2500   NaN        S  \n",
       "1      0          PC 17599  71.2833   C85        C  \n",
       "2      0  STON/O2. 3101282   7.9250   NaN        S  \n",
       "3      0            113803  53.1000  C123        S  \n",
       "4      0            373450   8.0500   NaN        S  "
      ]
     },
     "execution_count": 5,
     "metadata": {},
     "output_type": "execute_result"
    }
   ],
   "source": [
    "#Let's look at the data and the collumn names\n",
    "train_data.head()"
   ]
  },
  {
   "cell_type": "code",
   "execution_count": 6,
   "id": "58aed447",
   "metadata": {
    "execution": {
     "iopub.execute_input": "2021-12-15T19:14:11.106032Z",
     "iopub.status.busy": "2021-12-15T19:14:11.105342Z",
     "iopub.status.idle": "2021-12-15T19:14:11.149002Z",
     "shell.execute_reply": "2021-12-15T19:14:11.148341Z",
     "shell.execute_reply.started": "2021-12-15T19:12:35.780848Z"
    },
    "papermill": {
     "duration": 0.077859,
     "end_time": "2021-12-15T19:14:11.149154",
     "exception": false,
     "start_time": "2021-12-15T19:14:11.071295",
     "status": "completed"
    },
    "tags": []
   },
   "outputs": [
    {
     "data": {
      "text/html": [
       "<div>\n",
       "<style scoped>\n",
       "    .dataframe tbody tr th:only-of-type {\n",
       "        vertical-align: middle;\n",
       "    }\n",
       "\n",
       "    .dataframe tbody tr th {\n",
       "        vertical-align: top;\n",
       "    }\n",
       "\n",
       "    .dataframe thead th {\n",
       "        text-align: right;\n",
       "    }\n",
       "</style>\n",
       "<table border=\"1\" class=\"dataframe\">\n",
       "  <thead>\n",
       "    <tr style=\"text-align: right;\">\n",
       "      <th></th>\n",
       "      <th>PassengerId</th>\n",
       "      <th>Survived</th>\n",
       "      <th>Pclass</th>\n",
       "      <th>Age</th>\n",
       "      <th>SibSp</th>\n",
       "      <th>Parch</th>\n",
       "      <th>Fare</th>\n",
       "    </tr>\n",
       "  </thead>\n",
       "  <tbody>\n",
       "    <tr>\n",
       "      <th>count</th>\n",
       "      <td>891.000000</td>\n",
       "      <td>891.000000</td>\n",
       "      <td>891.000000</td>\n",
       "      <td>714.000000</td>\n",
       "      <td>891.000000</td>\n",
       "      <td>891.000000</td>\n",
       "      <td>891.000000</td>\n",
       "    </tr>\n",
       "    <tr>\n",
       "      <th>mean</th>\n",
       "      <td>446.000000</td>\n",
       "      <td>0.383838</td>\n",
       "      <td>2.308642</td>\n",
       "      <td>29.699118</td>\n",
       "      <td>0.523008</td>\n",
       "      <td>0.381594</td>\n",
       "      <td>32.204208</td>\n",
       "    </tr>\n",
       "    <tr>\n",
       "      <th>std</th>\n",
       "      <td>257.353842</td>\n",
       "      <td>0.486592</td>\n",
       "      <td>0.836071</td>\n",
       "      <td>14.526497</td>\n",
       "      <td>1.102743</td>\n",
       "      <td>0.806057</td>\n",
       "      <td>49.693429</td>\n",
       "    </tr>\n",
       "    <tr>\n",
       "      <th>min</th>\n",
       "      <td>1.000000</td>\n",
       "      <td>0.000000</td>\n",
       "      <td>1.000000</td>\n",
       "      <td>0.420000</td>\n",
       "      <td>0.000000</td>\n",
       "      <td>0.000000</td>\n",
       "      <td>0.000000</td>\n",
       "    </tr>\n",
       "    <tr>\n",
       "      <th>25%</th>\n",
       "      <td>223.500000</td>\n",
       "      <td>0.000000</td>\n",
       "      <td>2.000000</td>\n",
       "      <td>20.125000</td>\n",
       "      <td>0.000000</td>\n",
       "      <td>0.000000</td>\n",
       "      <td>7.910400</td>\n",
       "    </tr>\n",
       "    <tr>\n",
       "      <th>50%</th>\n",
       "      <td>446.000000</td>\n",
       "      <td>0.000000</td>\n",
       "      <td>3.000000</td>\n",
       "      <td>28.000000</td>\n",
       "      <td>0.000000</td>\n",
       "      <td>0.000000</td>\n",
       "      <td>14.454200</td>\n",
       "    </tr>\n",
       "    <tr>\n",
       "      <th>75%</th>\n",
       "      <td>668.500000</td>\n",
       "      <td>1.000000</td>\n",
       "      <td>3.000000</td>\n",
       "      <td>38.000000</td>\n",
       "      <td>1.000000</td>\n",
       "      <td>0.000000</td>\n",
       "      <td>31.000000</td>\n",
       "    </tr>\n",
       "    <tr>\n",
       "      <th>max</th>\n",
       "      <td>891.000000</td>\n",
       "      <td>1.000000</td>\n",
       "      <td>3.000000</td>\n",
       "      <td>80.000000</td>\n",
       "      <td>8.000000</td>\n",
       "      <td>6.000000</td>\n",
       "      <td>512.329200</td>\n",
       "    </tr>\n",
       "  </tbody>\n",
       "</table>\n",
       "</div>"
      ],
      "text/plain": [
       "       PassengerId    Survived      Pclass         Age       SibSp  \\\n",
       "count   891.000000  891.000000  891.000000  714.000000  891.000000   \n",
       "mean    446.000000    0.383838    2.308642   29.699118    0.523008   \n",
       "std     257.353842    0.486592    0.836071   14.526497    1.102743   \n",
       "min       1.000000    0.000000    1.000000    0.420000    0.000000   \n",
       "25%     223.500000    0.000000    2.000000   20.125000    0.000000   \n",
       "50%     446.000000    0.000000    3.000000   28.000000    0.000000   \n",
       "75%     668.500000    1.000000    3.000000   38.000000    1.000000   \n",
       "max     891.000000    1.000000    3.000000   80.000000    8.000000   \n",
       "\n",
       "            Parch        Fare  \n",
       "count  891.000000  891.000000  \n",
       "mean     0.381594   32.204208  \n",
       "std      0.806057   49.693429  \n",
       "min      0.000000    0.000000  \n",
       "25%      0.000000    7.910400  \n",
       "50%      0.000000   14.454200  \n",
       "75%      0.000000   31.000000  \n",
       "max      6.000000  512.329200  "
      ]
     },
     "execution_count": 6,
     "metadata": {},
     "output_type": "execute_result"
    }
   ],
   "source": [
    "#Look at some statistical values\n",
    "train_data.describe()"
   ]
  },
  {
   "cell_type": "code",
   "execution_count": 7,
   "id": "050b3b2a",
   "metadata": {
    "execution": {
     "iopub.execute_input": "2021-12-15T19:14:11.219415Z",
     "iopub.status.busy": "2021-12-15T19:14:11.218743Z",
     "iopub.status.idle": "2021-12-15T19:14:11.226406Z",
     "shell.execute_reply": "2021-12-15T19:14:11.227145Z",
     "shell.execute_reply.started": "2021-12-15T19:12:35.828588Z"
    },
    "papermill": {
     "duration": 0.045306,
     "end_time": "2021-12-15T19:14:11.227374",
     "exception": false,
     "start_time": "2021-12-15T19:14:11.182068",
     "status": "completed"
    },
    "tags": []
   },
   "outputs": [
    {
     "name": "stdout",
     "output_type": "stream",
     "text": [
      "PassengerId      0\n",
      "Survived         0\n",
      "Pclass           0\n",
      "Name             0\n",
      "Sex              0\n",
      "Age            177\n",
      "SibSp            0\n",
      "Parch            0\n",
      "Ticket           0\n",
      "Fare             0\n",
      "Cabin          687\n",
      "Embarked         2\n",
      "dtype: int64\n",
      "--------------------\n",
      "PassengerId      0\n",
      "Pclass           0\n",
      "Name             0\n",
      "Sex              0\n",
      "Age             86\n",
      "SibSp            0\n",
      "Parch            0\n",
      "Ticket           0\n",
      "Fare             1\n",
      "Cabin          327\n",
      "Embarked         0\n",
      "dtype: int64\n"
     ]
    }
   ],
   "source": [
    "#See which collumns have NaN values\n",
    "print(train_data.isnull().sum())\n",
    "print('-'*20)\n",
    "print(test_data.isnull().sum())"
   ]
  },
  {
   "cell_type": "code",
   "execution_count": 8,
   "id": "e550fe8a",
   "metadata": {
    "execution": {
     "iopub.execute_input": "2021-12-15T19:14:11.301040Z",
     "iopub.status.busy": "2021-12-15T19:14:11.300061Z",
     "iopub.status.idle": "2021-12-15T19:14:11.302229Z",
     "shell.execute_reply": "2021-12-15T19:14:11.302703Z",
     "shell.execute_reply.started": "2021-12-15T19:12:35.839856Z"
    },
    "papermill": {
     "duration": 0.041775,
     "end_time": "2021-12-15T19:14:11.302890",
     "exception": false,
     "start_time": "2021-12-15T19:14:11.261115",
     "status": "completed"
    },
    "tags": []
   },
   "outputs": [],
   "source": [
    "#Wrtie mean value for age\n",
    "train_data['Age'] = train_data['Age'].fillna(train_data['Age'].mean())\n",
    "test_data['Age'] = test_data['Age'].fillna(test_data['Age'].mean())"
   ]
  },
  {
   "cell_type": "code",
   "execution_count": 9,
   "id": "32d6af84",
   "metadata": {
    "execution": {
     "iopub.execute_input": "2021-12-15T19:14:11.373772Z",
     "iopub.status.busy": "2021-12-15T19:14:11.372961Z",
     "iopub.status.idle": "2021-12-15T19:14:11.376680Z",
     "shell.execute_reply": "2021-12-15T19:14:11.376066Z",
     "shell.execute_reply.started": "2021-12-15T19:12:35.852609Z"
    },
    "papermill": {
     "duration": 0.041872,
     "end_time": "2021-12-15T19:14:11.376825",
     "exception": false,
     "start_time": "2021-12-15T19:14:11.334953",
     "status": "completed"
    },
    "tags": []
   },
   "outputs": [
    {
     "data": {
      "text/plain": [
       "array([nan, 'C85', 'C123', 'E46', 'G6', 'C103', 'D56', 'A6',\n",
       "       'C23 C25 C27', 'B78', 'D33', 'B30', 'C52', 'B28', 'C83', 'F33',\n",
       "       'F G73', 'E31', 'A5', 'D10 D12', 'D26', 'C110', 'B58 B60', 'E101',\n",
       "       'F E69', 'D47', 'B86', 'F2', 'C2', 'E33', 'B19', 'A7', 'C49', 'F4',\n",
       "       'A32', 'B4', 'B80', 'A31', 'D36', 'D15', 'C93', 'C78', 'D35',\n",
       "       'C87', 'B77', 'E67', 'B94', 'C125', 'C99', 'C118', 'D7', 'A19',\n",
       "       'B49', 'D', 'C22 C26', 'C106', 'C65', 'E36', 'C54',\n",
       "       'B57 B59 B63 B66', 'C7', 'E34', 'C32', 'B18', 'C124', 'C91', 'E40',\n",
       "       'T', 'C128', 'D37', 'B35', 'E50', 'C82', 'B96 B98', 'E10', 'E44',\n",
       "       'A34', 'C104', 'C111', 'C92', 'E38', 'D21', 'E12', 'E63', 'A14',\n",
       "       'B37', 'C30', 'D20', 'B79', 'E25', 'D46', 'B73', 'C95', 'B38',\n",
       "       'B39', 'B22', 'C86', 'C70', 'A16', 'C101', 'C68', 'A10', 'E68',\n",
       "       'B41', 'A20', 'D19', 'D50', 'D9', 'A23', 'B50', 'A26', 'D48',\n",
       "       'E58', 'C126', 'B71', 'B51 B53 B55', 'D49', 'B5', 'B20', 'F G63',\n",
       "       'C62 C64', 'E24', 'C90', 'C45', 'E8', 'B101', 'D45', 'C46', 'D30',\n",
       "       'E121', 'D11', 'E77', 'F38', 'B3', 'D6', 'B82 B84', 'D17', 'A36',\n",
       "       'B102', 'B69', 'E49', 'C47', 'D28', 'E17', 'A24', 'C50', 'B42',\n",
       "       'C148'], dtype=object)"
      ]
     },
     "execution_count": 9,
     "metadata": {},
     "output_type": "execute_result"
    }
   ],
   "source": [
    "#Get Cabin values\n",
    "train_data['Cabin'].unique()"
   ]
  },
  {
   "cell_type": "code",
   "execution_count": 10,
   "id": "e5176881",
   "metadata": {
    "execution": {
     "iopub.execute_input": "2021-12-15T19:14:11.448523Z",
     "iopub.status.busy": "2021-12-15T19:14:11.447789Z",
     "iopub.status.idle": "2021-12-15T19:14:11.450798Z",
     "shell.execute_reply": "2021-12-15T19:14:11.450243Z",
     "shell.execute_reply.started": "2021-12-15T19:12:35.871053Z"
    },
    "papermill": {
     "duration": 0.041587,
     "end_time": "2021-12-15T19:14:11.450941",
     "exception": false,
     "start_time": "2021-12-15T19:14:11.409354",
     "status": "completed"
    },
    "tags": []
   },
   "outputs": [],
   "source": [
    "#Fill NaN Cabin values with new category.\n",
    "train_data['Cabin'] = train_data['Cabin'].fillna('Unknown')\n",
    "test_data['Cabin'] = test_data['Cabin'].fillna('Unknown')"
   ]
  },
  {
   "cell_type": "code",
   "execution_count": 11,
   "id": "12fb391d",
   "metadata": {
    "execution": {
     "iopub.execute_input": "2021-12-15T19:14:11.520421Z",
     "iopub.status.busy": "2021-12-15T19:14:11.519433Z",
     "iopub.status.idle": "2021-12-15T19:14:11.851111Z",
     "shell.execute_reply": "2021-12-15T19:14:11.850406Z",
     "shell.execute_reply.started": "2021-12-15T19:12:35.883408Z"
    },
    "papermill": {
     "duration": 0.367599,
     "end_time": "2021-12-15T19:14:11.851265",
     "exception": false,
     "start_time": "2021-12-15T19:14:11.483666",
     "status": "completed"
    },
    "tags": []
   },
   "outputs": [
    {
     "data": {
      "text/plain": [
       "<AxesSubplot:ylabel='Frequency'>"
      ]
     },
     "execution_count": 11,
     "metadata": {},
     "output_type": "execute_result"
    },
    {
     "data": {
      "image/png": "[encoded data removed]",
      "text/plain": [
       "<Figure size 432x288 with 1 Axes>"
      ]
     },
     "metadata": {
      "needs_background": "light"
     },
     "output_type": "display_data"
    }
   ],
   "source": [
    "#Plot for age distribution\n",
    "train_data['Age'].plot(kind = \"hist\")"
   ]
  },
  {
   "cell_type": "code",
   "execution_count": 12,
   "id": "2a998c65",
   "metadata": {
    "execution": {
     "iopub.execute_input": "2021-12-15T19:14:11.935786Z",
     "iopub.status.busy": "2021-12-15T19:14:11.934558Z",
     "iopub.status.idle": "2021-12-15T19:14:12.116836Z",
     "shell.execute_reply": "2021-12-15T19:14:12.115907Z",
     "shell.execute_reply.started": "2021-12-15T19:12:36.124869Z"
    },
    "papermill": {
     "duration": 0.227332,
     "end_time": "2021-12-15T19:14:12.116996",
     "exception": false,
     "start_time": "2021-12-15T19:14:11.889664",
     "status": "completed"
    },
    "tags": []
   },
   "outputs": [
    {
     "data": {
      "text/plain": [
       "<AxesSubplot:ylabel='Sex'>"
      ]
     },
     "execution_count": 12,
     "metadata": {},
     "output_type": "execute_result"
    },
    {
     "data": {
      "image/png": "[encoded data removed]",
      "text/plain": [
       "<Figure size 432x288 with 1 Axes>"
      ]
     },
     "metadata": {
      "needs_background": "light"
     },
     "output_type": "display_data"
    }
   ],
   "source": [
    "#Take a look at which gender is survived more\n",
    "train_data.groupby(['Sex']).sum()['Survived'].plot(kind= 'barh')"
   ]
  },
  {
   "cell_type": "code",
   "execution_count": 13,
   "id": "4cb51a5b",
   "metadata": {
    "execution": {
     "iopub.execute_input": "2021-12-15T19:14:12.194699Z",
     "iopub.status.busy": "2021-12-15T19:14:12.193618Z",
     "iopub.status.idle": "2021-12-15T19:14:12.391429Z",
     "shell.execute_reply": "2021-12-15T19:14:12.390735Z",
     "shell.execute_reply.started": "2021-12-15T19:12:36.301116Z"
    },
    "papermill": {
     "duration": 0.240255,
     "end_time": "2021-12-15T19:14:12.391604",
     "exception": false,
     "start_time": "2021-12-15T19:14:12.151349",
     "status": "completed"
    },
    "tags": []
   },
   "outputs": [
    {
     "data": {
      "text/plain": [
       "<AxesSubplot:>"
      ]
     },
     "execution_count": 13,
     "metadata": {},
     "output_type": "execute_result"
    },
    {
     "data": {
      "image/png": "[encoded data removed]",
      "text/plain": [
       "<Figure size 432x288 with 1 Axes>"
      ]
     },
     "metadata": {
      "needs_background": "light"
     },
     "output_type": "display_data"
    }
   ],
   "source": [
    "#Which percentage does the genders survive\n",
    "x =  train_data.groupby(['Sex']).sum()['Survived'] / train_data['Sex'].value_counts()\n",
    "x.plot(kind = 'bar')"
   ]
  },
  {
   "cell_type": "code",
   "execution_count": 14,
   "id": "3ea62534",
   "metadata": {
    "execution": {
     "iopub.execute_input": "2021-12-15T19:14:12.466158Z",
     "iopub.status.busy": "2021-12-15T19:14:12.465168Z",
     "iopub.status.idle": "2021-12-15T19:14:12.657459Z",
     "shell.execute_reply": "2021-12-15T19:14:12.657990Z",
     "shell.execute_reply.started": "2021-12-15T19:12:36.485548Z"
    },
    "papermill": {
     "duration": 0.231232,
     "end_time": "2021-12-15T19:14:12.658160",
     "exception": false,
     "start_time": "2021-12-15T19:14:12.426928",
     "status": "completed"
    },
    "tags": []
   },
   "outputs": [
    {
     "data": {
      "text/plain": [
       "<AxesSubplot:ylabel='Pclass'>"
      ]
     },
     "execution_count": 14,
     "metadata": {},
     "output_type": "execute_result"
    },
    {
     "data": {
      "image/png": "[encoded data removed]",
      "text/plain": [
       "<Figure size 432x288 with 1 Axes>"
      ]
     },
     "metadata": {
      "needs_background": "light"
     },
     "output_type": "display_data"
    }
   ],
   "source": [
    "#Take a look at which class of passangers has survived more.\n",
    "train_data.groupby(['Pclass']).sum()['Survived'].sort_values().plot(kind= 'barh')"
   ]
  },
  {
   "cell_type": "code",
   "execution_count": 15,
   "id": "15e2ada1",
   "metadata": {
    "execution": {
     "iopub.execute_input": "2021-12-15T19:14:12.734242Z",
     "iopub.status.busy": "2021-12-15T19:14:12.733526Z",
     "iopub.status.idle": "2021-12-15T19:14:12.920538Z",
     "shell.execute_reply": "2021-12-15T19:14:12.921061Z",
     "shell.execute_reply.started": "2021-12-15T19:12:36.668024Z"
    },
    "papermill": {
     "duration": 0.227119,
     "end_time": "2021-12-15T19:14:12.921232",
     "exception": false,
     "start_time": "2021-12-15T19:14:12.694113",
     "status": "completed"
    },
    "tags": []
   },
   "outputs": [
    {
     "data": {
      "text/plain": [
       "<AxesSubplot:>"
      ]
     },
     "execution_count": 15,
     "metadata": {},
     "output_type": "execute_result"
    },
    {
     "data": {
      "image/png": "[encoded data removed]",
      "text/plain": [
       "<Figure size 432x288 with 1 Axes>"
      ]
     },
     "metadata": {
      "needs_background": "light"
     },
     "output_type": "display_data"
    }
   ],
   "source": [
    "#Survival rates per classes.\n",
    "x =  train_data.groupby(['Pclass']).sum()['Survived'] / train_data['Pclass'].value_counts()\n",
    "x.plot(kind = 'bar')"
   ]
  },
  {
   "cell_type": "code",
   "execution_count": 16,
   "id": "ee58f4f3",
   "metadata": {
    "execution": {
     "iopub.execute_input": "2021-12-15T19:14:13.000015Z",
     "iopub.status.busy": "2021-12-15T19:14:12.999255Z",
     "iopub.status.idle": "2021-12-15T19:14:13.460421Z",
     "shell.execute_reply": "2021-12-15T19:14:13.459886Z",
     "shell.execute_reply.started": "2021-12-15T19:12:36.843971Z"
    },
    "papermill": {
     "duration": 0.50184,
     "end_time": "2021-12-15T19:14:13.460564",
     "exception": false,
     "start_time": "2021-12-15T19:14:12.958724",
     "status": "completed"
    },
    "tags": []
   },
   "outputs": [
    {
     "data": {
      "text/plain": [
       "<AxesSubplot:xlabel='Age', ylabel='Count'>"
      ]
     },
     "execution_count": 16,
     "metadata": {},
     "output_type": "execute_result"
    },
    {
     "data": {
      "image/png": "[encoded data removed]",
      "text/plain": [
       "<Figure size 432x288 with 1 Axes>"
      ]
     },
     "metadata": {
      "needs_background": "light"
     },
     "output_type": "display_data"
    }
   ],
   "source": [
    "#Survival rate by age\n",
    "sns.histplot(data = train_data, x = 'Age',hue = 'Survived',multiple=\"dodge\")"
   ]
  },
  {
   "cell_type": "code",
   "execution_count": 17,
   "id": "d30d2ca2",
   "metadata": {
    "execution": {
     "iopub.execute_input": "2021-12-15T19:14:13.543792Z",
     "iopub.status.busy": "2021-12-15T19:14:13.543151Z",
     "iopub.status.idle": "2021-12-15T19:14:13.545050Z",
     "shell.execute_reply": "2021-12-15T19:14:13.545521Z",
     "shell.execute_reply.started": "2021-12-15T19:12:37.222890Z"
    },
    "papermill": {
     "duration": 0.046558,
     "end_time": "2021-12-15T19:14:13.545735",
     "exception": false,
     "start_time": "2021-12-15T19:14:13.499177",
     "status": "completed"
    },
    "tags": []
   },
   "outputs": [],
   "source": [
    "#Drop unnecessary columns\n",
    "train_data.drop(['Ticket'], axis = 1, inplace = True)\n",
    "train_data.drop(['Embarked'], axis = 1, inplace = True)\n",
    "train_data.drop(['Name'], axis = 1, inplace = True)"
   ]
  },
  {
   "cell_type": "code",
   "execution_count": 21,
   "id": "365827ee",
   "metadata": {
    "execution": {
     "iopub.execute_input": "2021-12-15T19:14:13.894240Z",
     "iopub.status.busy": "2021-12-15T19:14:13.893415Z",
     "iopub.status.idle": "2021-12-15T19:14:13.895830Z",
     "shell.execute_reply": "2021-12-15T19:14:13.896274Z",
     "shell.execute_reply.started": "2021-12-15T19:12:37.282627Z"
    },
    "papermill": {
     "duration": 0.046211,
     "end_time": "2021-12-15T19:14:13.896459",
     "exception": false,
     "start_time": "2021-12-15T19:14:13.850248",
     "status": "completed"
    },
    "tags": []
   },
   "outputs": [],
   "source": [
    "#Define our collumns to use as features.\n",
    "CATEGORICAL_COLUMNS = ['Sex', 'SibSp','Parch','Pclass','Cabin']\n",
    "NUMERIC_COLUMNS = ['Age', 'Fare']"
   ]
  },
  {
   "cell_type": "code",
   "execution_count": 22,
   "id": "a1eb985a",
   "metadata": {
    "execution": {
     "iopub.execute_input": "2021-12-15T19:14:13.980535Z",
     "iopub.status.busy": "2021-12-15T19:14:13.979866Z",
     "iopub.status.idle": "2021-12-15T19:14:13.982416Z",
     "shell.execute_reply": "2021-12-15T19:14:13.983098Z",
     "shell.execute_reply.started": "2021-12-15T19:12:37.288423Z"
    },
    "papermill": {
     "duration": 0.047807,
     "end_time": "2021-12-15T19:14:13.983313",
     "exception": false,
     "start_time": "2021-12-15T19:14:13.935506",
     "status": "completed"
    },
    "tags": []
   },
   "outputs": [],
   "source": [
    "#Create feature collumns\n",
    "feature_columns = []\n",
    "\n",
    "for f_name in CATEGORICAL_COLUMNS:\n",
    "    vocabulary = train_data[f_name].unique()\n",
    "    feature_columns.append(tf.feature_column.categorical_column_with_vocabulary_list(f_name,vocabulary))\n",
    "    \n",
    "for f_name in NUMERIC_COLUMNS:\n",
    "    feature_columns.append(tf.feature_column.numeric_column(f_name))"
   ]
  },
  {
   "cell_type": "code",
   "execution_count": 24,
   "id": "831c7d78",
   "metadata": {
    "execution": {
     "iopub.execute_input": "2021-12-15T19:14:14.150228Z",
     "iopub.status.busy": "2021-12-15T19:14:14.149549Z",
     "iopub.status.idle": "2021-12-15T19:14:14.153127Z",
     "shell.execute_reply": "2021-12-15T19:14:14.153652Z",
     "shell.execute_reply.started": "2021-12-15T19:12:37.316780Z"
    },
    "papermill": {
     "duration": 0.045685,
     "end_time": "2021-12-15T19:14:14.153821",
     "exception": false,
     "start_time": "2021-12-15T19:14:14.108136",
     "status": "completed"
    },
    "tags": []
   },
   "outputs": [],
   "source": [
    "#Get our label values\n",
    "train_y = train_data.pop('Survived')"
   ]
  },
  {
   "cell_type": "code",
   "execution_count": 25,
   "id": "7fe58176",
   "metadata": {
    "execution": {
     "iopub.execute_input": "2021-12-15T19:14:14.234980Z",
     "iopub.status.busy": "2021-12-15T19:14:14.234252Z",
     "iopub.status.idle": "2021-12-15T19:14:14.239032Z",
     "shell.execute_reply": "2021-12-15T19:14:14.239508Z",
     "shell.execute_reply.started": "2021-12-15T19:12:37.331451Z"
    },
    "papermill": {
     "duration": 0.046959,
     "end_time": "2021-12-15T19:14:14.239694",
     "exception": false,
     "start_time": "2021-12-15T19:14:14.192735",
     "status": "completed"
    },
    "tags": []
   },
   "outputs": [],
   "source": [
    "#Define input function\n",
    "def input_fn(data, label, epochs = 10, training = True, batch_size = 32):\n",
    "    ds = tf.data.Dataset.from_tensor_slices((dict(data),label))\n",
    "    if training:\n",
    "        ds = ds.shuffle(1000)\n",
    "    ds = ds.batch(batch_size).repeat(epochs)\n",
    "    return ds\n",
    "        "
   ]
  },
  {
   "cell_type": "code",
   "execution_count": 26,
   "id": "ccff452f",
   "metadata": {
    "execution": {
     "iopub.execute_input": "2021-12-15T19:14:14.320812Z",
     "iopub.status.busy": "2021-12-15T19:14:14.320163Z",
     "iopub.status.idle": "2021-12-15T19:14:15.815400Z",
     "shell.execute_reply": "2021-12-15T19:14:15.815939Z",
     "shell.execute_reply.started": "2021-12-15T19:12:37.346171Z"
    },
    "papermill": {
     "duration": 1.537382,
     "end_time": "2021-12-15T19:14:15.816128",
     "exception": false,
     "start_time": "2021-12-15T19:14:14.278746",
     "status": "completed"
    },
    "tags": []
   },
   "outputs": [],
   "source": [
    "#Use Linear Estimator to predict values\n",
    "lin_est = tf.estimator.LinearClassifier(feature_columns = feature_columns)"
   ]
  },
  {
   "cell_type": "code",
   "execution_count": 27,
   "id": "f7e651ab",
   "metadata": {
    "execution": {
     "iopub.execute_input": "2021-12-15T19:14:15.898540Z",
     "iopub.status.busy": "2021-12-15T19:14:15.897834Z",
     "iopub.status.idle": "2021-12-15T19:14:20.269661Z",
     "shell.execute_reply": "2021-12-15T19:14:20.270175Z",
     "shell.execute_reply.started": "2021-12-15T19:12:37.362731Z"
    },
    "papermill": {
     "duration": 4.41455,
     "end_time": "2021-12-15T19:14:20.270382",
     "exception": false,
     "start_time": "2021-12-15T19:14:15.855832",
     "status": "completed"
    },
    "tags": []
   },
   "outputs": [
    {
     "name": "stderr",
     "output_type": "stream",
     "text": [
      "/opt/conda/lib/python3.7/site-packages/keras/engine/base_layer_v1.py:1684: UserWarning: `layer.add_variable` is deprecated and will be removed in a future version. Please use `layer.add_weight` method instead.\n",
      "  warnings.warn('`layer.add_variable` is deprecated and '\n",
      "\n",
      "User settings:\n",
      "\n",
      "   KMP_AFFINITY=granularity=fine,verbose,compact,1,0\n",
      "   KMP_BLOCKTIME=0\n",
      "   KMP_SETTINGS=1\n",
      "   KMP_WARNINGS=0\n",
      "\n",
      "Effective settings:\n",
      "\n",
      "   KMP_ABORT_DELAY=0\n",
      "   KMP_ADAPTIVE_LOCK_PROPS='1,1024'\n",
      "   KMP_ALIGN_ALLOC=64\n",
      "   KMP_ALL_THREADPRIVATE=128\n",
      "   KMP_ATOMIC_MODE=2\n",
      "   KMP_BLOCKTIME=0\n",
      "   KMP_CPUINFO_FILE: value is not defined\n",
      "   KMP_DETERMINISTIC_REDUCTION=false\n",
      "   KMP_DEVICE_THREAD_LIMIT=2147483647\n",
      "   KMP_DISP_NUM_BUFFERS=7\n",
      "   KMP_DUPLICATE_LIB_OK=false\n",
      "   KMP_ENABLE_TASK_THROTTLING=true\n",
      "   KMP_FORCE_REDUCTION: value is not defined\n",
      "   KMP_FOREIGN_THREADS_THREADPRIVATE=true\n",
      "   KMP_FORKJOIN_BARRIER='2,2'\n",
      "   KMP_FORKJOIN_BARRIER_PATTERN='hyper,hyper'\n",
      "   KMP_GTID_MODE=3\n",
      "   KMP_HANDLE_SIGNALS=false\n",
      "   KMP_HOT_TEAMS_MAX_LEVEL=1\n",
      "   KMP_HOT_TEAMS_MODE=0\n",
      "   KMP_INIT_AT_FORK=true\n",
      "   KMP_LIBRARY=throughput\n",
      "   KMP_LOCK_KIND=queuing\n",
      "   KMP_MALLOC_POOL_INCR=1M\n",
      "   KMP_NUM_LOCKS_IN_BLOCK=1\n",
      "   KMP_PLAIN_BARRIER='2,2'\n",
      "   KMP_PLAIN_BARRIER_PATTERN='hyper,hyper'\n",
      "   KMP_REDUCTION_BARRIER='1,1'\n",
      "   KMP_REDUCTION_BARRIER_PATTERN='hyper,hyper'\n",
      "   KMP_SCHEDULE='static,balanced;guided,iterative'\n",
      "   KMP_SETTINGS=true\n",
      "   KMP_SPIN_BACKOFF_PARAMS='4096,100'\n",
      "   KMP_STACKOFFSET=64\n",
      "   KMP_STACKPAD=0\n",
      "   KMP_STACKSIZE=8M\n",
      "   KMP_STORAGE_MAP=false\n",
      "   KMP_TASKING=2\n",
      "   KMP_TASKLOOP_MIN_TASKS=0\n",
      "   KMP_TASK_STEALING_CONSTRAINT=1\n",
      "   KMP_TEAMS_THREAD_LIMIT=4\n",
      "   KMP_TOPOLOGY_METHOD=all\n",
      "   KMP_USE_YIELD=1\n",
      "   KMP_VERSION=false\n",
      "   KMP_WARNINGS=false\n",
      "   OMP_AFFINITY_FORMAT='OMP: pid %P tid %i thread %n bound to OS proc set {%A}'\n",
      "   OMP_ALLOCATOR=omp_default_mem_alloc\n",
      "   OMP_CANCELLATION=false\n",
      "   OMP_DEFAULT_DEVICE=0\n",
      "   OMP_DISPLAY_AFFINITY=false\n",
      "   OMP_DISPLAY_ENV=false\n",
      "   OMP_DYNAMIC=false\n",
      "   OMP_MAX_ACTIVE_LEVELS=1\n",
      "   OMP_MAX_TASK_PRIORITY=0\n",
      "   OMP_NESTED: deprecated; max-active-levels-var=1\n",
      "   OMP_NUM_THREADS: value is not defined\n",
      "   OMP_PLACES: value is not defined\n",
      "   OMP_PROC_BIND='intel'\n",
      "   OMP_SCHEDULE='static'\n",
      "   OMP_STACKSIZE=8M\n",
      "   OMP_TARGET_OFFLOAD=DEFAULT\n",
      "   OMP_THREAD_LIMIT=2147483647\n",
      "   OMP_WAIT_POLICY=PASSIVE\n",
      "   KMP_AFFINITY='verbose,warnings,respect,granularity=fine,compact,1,0'\n",
      "\n",
      "2021-12-15 19:14:17.356424: I tensorflow/core/common_runtime/process_util.cc:146] Creating new thread pool with default inter op setting: 2. Tune using inter_op_parallelism_threads for best performance.\n"
     ]
    }
   ],
   "source": [
    "#Train the estimator\n",
    "lin_est.train(lambda:input_fn(train_data,train_y))"
   ]
  },
  {
   "cell_type": "code",
   "execution_count": 28,
   "id": "030343bf",
   "metadata": {
    "execution": {
     "iopub.execute_input": "2021-12-15T19:14:20.352964Z",
     "iopub.status.busy": "2021-12-15T19:14:20.352271Z",
     "iopub.status.idle": "2021-12-15T19:14:20.357237Z",
     "shell.execute_reply": "2021-12-15T19:14:20.357699Z",
     "shell.execute_reply.started": "2021-12-15T19:12:40.550616Z"
    },
    "papermill": {
     "duration": 0.048005,
     "end_time": "2021-12-15T19:14:20.357922",
     "exception": false,
     "start_time": "2021-12-15T19:14:20.309917",
     "status": "completed"
    },
    "tags": []
   },
   "outputs": [],
   "source": [
    "#Input function for the test values\n",
    "def eval_fn(data,batch_size = 32):\n",
    "    ds = tf.data.Dataset.from_tensor_slices(dict(data))\n",
    "    ds = ds.batch(batch_size)\n",
    "    return ds"
   ]
  },
  {
   "cell_type": "code",
   "execution_count": 29,
   "id": "6d97acb2",
   "metadata": {
    "execution": {
     "iopub.execute_input": "2021-12-15T19:14:20.440634Z",
     "iopub.status.busy": "2021-12-15T19:14:20.439989Z",
     "iopub.status.idle": "2021-12-15T19:14:21.355329Z",
     "shell.execute_reply": "2021-12-15T19:14:21.354669Z",
     "shell.execute_reply.started": "2021-12-15T19:12:40.558087Z"
    },
    "papermill": {
     "duration": 0.957737,
     "end_time": "2021-12-15T19:14:21.355467",
     "exception": false,
     "start_time": "2021-12-15T19:14:20.397730",
     "status": "completed"
    },
    "tags": []
   },
   "outputs": [],
   "source": [
    "#Get Results\n",
    "result = list(lin_est.predict(lambda:eval_fn(test_data)))"
   ]
  },
  {
   "cell_type": "code",
   "execution_count": 31,
   "id": "7197b331",
   "metadata": {
    "execution": {
     "iopub.execute_input": "2021-12-15T19:14:21.527726Z",
     "iopub.status.busy": "2021-12-15T19:14:21.527070Z",
     "iopub.status.idle": "2021-12-15T19:14:21.566194Z",
     "shell.execute_reply": "2021-12-15T19:14:21.565537Z",
     "shell.execute_reply.started": "2021-12-15T19:12:41.434655Z"
    },
    "papermill": {
     "duration": 0.08192,
     "end_time": "2021-12-15T19:14:21.566337",
     "exception": false,
     "start_time": "2021-12-15T19:14:21.484417",
     "status": "completed"
    },
    "tags": []
   },
   "outputs": [
    {
     "data": {
      "text/html": [
       "<div>\n",
       "<style scoped>\n",
       "    .dataframe tbody tr th:only-of-type {\n",
       "        vertical-align: middle;\n",
       "    }\n",
       "\n",
       "    .dataframe tbody tr th {\n",
       "        vertical-align: top;\n",
       "    }\n",
       "\n",
       "    .dataframe thead th {\n",
       "        text-align: right;\n",
       "    }\n",
       "</style>\n",
       "<table border=\"1\" class=\"dataframe\">\n",
       "  <thead>\n",
       "    <tr style=\"text-align: right;\">\n",
       "      <th></th>\n",
       "      <th>logits</th>\n",
       "      <th>logistic</th>\n",
       "      <th>probabilities</th>\n",
       "      <th>class_ids</th>\n",
       "      <th>classes</th>\n",
       "      <th>all_class_ids</th>\n",
       "      <th>all_classes</th>\n",
       "    </tr>\n",
       "  </thead>\n",
       "  <tbody>\n",
       "    <tr>\n",
       "      <th>0</th>\n",
       "      <td>[-2.3812232]</td>\n",
       "      <td>[0.08461577]</td>\n",
       "      <td>[0.9153843, 0.08461578]</td>\n",
       "      <td>[0]</td>\n",
       "      <td>[b'0']</td>\n",
       "      <td>[0, 1]</td>\n",
       "      <td>[b'0', b'1']</td>\n",
       "    </tr>\n",
       "    <tr>\n",
       "      <th>1</th>\n",
       "      <td>[-0.14809445]</td>\n",
       "      <td>[0.4630439]</td>\n",
       "      <td>[0.5369561, 0.4630439]</td>\n",
       "      <td>[0]</td>\n",
       "      <td>[b'0']</td>\n",
       "      <td>[0, 1]</td>\n",
       "      <td>[b'0', b'1']</td>\n",
       "    </tr>\n",
       "    <tr>\n",
       "      <th>2</th>\n",
       "      <td>[-2.227365]</td>\n",
       "      <td>[0.09731984]</td>\n",
       "      <td>[0.9026801, 0.09731987]</td>\n",
       "      <td>[0]</td>\n",
       "      <td>[b'0']</td>\n",
       "      <td>[0, 1]</td>\n",
       "      <td>[b'0', b'1']</td>\n",
       "    </tr>\n",
       "    <tr>\n",
       "      <th>3</th>\n",
       "      <td>[-2.1547217]</td>\n",
       "      <td>[0.10389078]</td>\n",
       "      <td>[0.89610916, 0.103890814]</td>\n",
       "      <td>[0]</td>\n",
       "      <td>[b'0']</td>\n",
       "      <td>[0, 1]</td>\n",
       "      <td>[b'0', b'1']</td>\n",
       "    </tr>\n",
       "    <tr>\n",
       "      <th>4</th>\n",
       "      <td>[0.7715564]</td>\n",
       "      <td>[0.68385744]</td>\n",
       "      <td>[0.3161425, 0.68385744]</td>\n",
       "      <td>[1]</td>\n",
       "      <td>[b'1']</td>\n",
       "      <td>[0, 1]</td>\n",
       "      <td>[b'0', b'1']</td>\n",
       "    </tr>\n",
       "    <tr>\n",
       "      <th>...</th>\n",
       "      <td>...</td>\n",
       "      <td>...</td>\n",
       "      <td>...</td>\n",
       "      <td>...</td>\n",
       "      <td>...</td>\n",
       "      <td>...</td>\n",
       "      <td>...</td>\n",
       "    </tr>\n",
       "    <tr>\n",
       "      <th>413</th>\n",
       "      <td>[-2.2544942]</td>\n",
       "      <td>[0.09496251]</td>\n",
       "      <td>[0.9050375, 0.09496251]</td>\n",
       "      <td>[0]</td>\n",
       "      <td>[b'0']</td>\n",
       "      <td>[0, 1]</td>\n",
       "      <td>[b'0', b'1']</td>\n",
       "    </tr>\n",
       "    <tr>\n",
       "      <th>414</th>\n",
       "      <td>[2.3048058]</td>\n",
       "      <td>[0.9092743]</td>\n",
       "      <td>[0.090725735, 0.9092743]</td>\n",
       "      <td>[1]</td>\n",
       "      <td>[b'1']</td>\n",
       "      <td>[0, 1]</td>\n",
       "      <td>[b'0', b'1']</td>\n",
       "    </tr>\n",
       "    <tr>\n",
       "      <th>415</th>\n",
       "      <td>[-2.502533]</td>\n",
       "      <td>[0.07568079]</td>\n",
       "      <td>[0.9243192, 0.0756808]</td>\n",
       "      <td>[0]</td>\n",
       "      <td>[b'0']</td>\n",
       "      <td>[0, 1]</td>\n",
       "      <td>[b'0', b'1']</td>\n",
       "    </tr>\n",
       "    <tr>\n",
       "      <th>416</th>\n",
       "      <td>[-2.2544942]</td>\n",
       "      <td>[0.09496251]</td>\n",
       "      <td>[0.9050375, 0.09496251]</td>\n",
       "      <td>[0]</td>\n",
       "      <td>[b'0']</td>\n",
       "      <td>[0, 1]</td>\n",
       "      <td>[b'0', b'1']</td>\n",
       "    </tr>\n",
       "    <tr>\n",
       "      <th>417</th>\n",
       "      <td>[-2.0539012]</td>\n",
       "      <td>[0.113658786]</td>\n",
       "      <td>[0.8863412, 0.11365877]</td>\n",
       "      <td>[0]</td>\n",
       "      <td>[b'0']</td>\n",
       "      <td>[0, 1]</td>\n",
       "      <td>[b'0', b'1']</td>\n",
       "    </tr>\n",
       "  </tbody>\n",
       "</table>\n",
       "<p>418 rows × 7 columns</p>\n",
       "</div>"
      ],
      "text/plain": [
       "            logits       logistic              probabilities class_ids  \\\n",
       "0     [-2.3812232]   [0.08461577]    [0.9153843, 0.08461578]       [0]   \n",
       "1    [-0.14809445]    [0.4630439]     [0.5369561, 0.4630439]       [0]   \n",
       "2      [-2.227365]   [0.09731984]    [0.9026801, 0.09731987]       [0]   \n",
       "3     [-2.1547217]   [0.10389078]  [0.89610916, 0.103890814]       [0]   \n",
       "4      [0.7715564]   [0.68385744]    [0.3161425, 0.68385744]       [1]   \n",
       "..             ...            ...                        ...       ...   \n",
       "413   [-2.2544942]   [0.09496251]    [0.9050375, 0.09496251]       [0]   \n",
       "414    [2.3048058]    [0.9092743]   [0.090725735, 0.9092743]       [1]   \n",
       "415    [-2.502533]   [0.07568079]     [0.9243192, 0.0756808]       [0]   \n",
       "416   [-2.2544942]   [0.09496251]    [0.9050375, 0.09496251]       [0]   \n",
       "417   [-2.0539012]  [0.113658786]    [0.8863412, 0.11365877]       [0]   \n",
       "\n",
       "    classes all_class_ids   all_classes  \n",
       "0    [b'0']        [0, 1]  [b'0', b'1']  \n",
       "1    [b'0']        [0, 1]  [b'0', b'1']  \n",
       "2    [b'0']        [0, 1]  [b'0', b'1']  \n",
       "3    [b'0']        [0, 1]  [b'0', b'1']  \n",
       "4    [b'1']        [0, 1]  [b'0', b'1']  \n",
       "..      ...           ...           ...  \n",
       "413  [b'0']        [0, 1]  [b'0', b'1']  \n",
       "414  [b'1']        [0, 1]  [b'0', b'1']  \n",
       "415  [b'0']        [0, 1]  [b'0', b'1']  \n",
       "416  [b'0']        [0, 1]  [b'0', b'1']  \n",
       "417  [b'0']        [0, 1]  [b'0', b'1']  \n",
       "\n",
       "[418 rows x 7 columns]"
      ]
     },
     "execution_count": 31,
     "metadata": {},
     "output_type": "execute_result"
    }
   ],
   "source": [
    "results = pd.DataFrame(result)\n",
    "results"
   ]
  },
  {
   "cell_type": "code",
   "execution_count": 33,
   "id": "ed070e2b",
   "metadata": {
    "execution": {
     "iopub.execute_input": "2021-12-15T19:14:21.752797Z",
     "iopub.status.busy": "2021-12-15T19:14:21.751687Z",
     "iopub.status.idle": "2021-12-15T19:14:21.753910Z",
     "shell.execute_reply": "2021-12-15T19:14:21.754554Z",
     "shell.execute_reply.started": "2021-12-15T19:13:08.845984Z"
    },
    "papermill": {
     "duration": 0.049342,
     "end_time": "2021-12-15T19:14:21.754795",
     "exception": false,
     "start_time": "2021-12-15T19:14:21.705453",
     "status": "completed"
    },
    "tags": []
   },
   "outputs": [],
   "source": [
    "output = pd.DataFrame({'PassengerId': test_data['PassengerId'], 'Survived': results['class_ids']})"
   ]
  },
  {
   "cell_type": "code",
   "execution_count": 34,
   "id": "b04f1694",
   "metadata": {
    "execution": {
     "iopub.execute_input": "2021-12-15T19:14:21.843989Z",
     "iopub.status.busy": "2021-12-15T19:14:21.843334Z",
     "iopub.status.idle": "2021-12-15T19:14:21.869892Z",
     "shell.execute_reply": "2021-12-15T19:14:21.869307Z",
     "shell.execute_reply.started": "2021-12-15T19:13:11.210128Z"
    },
    "papermill": {
     "duration": 0.07255,
     "end_time": "2021-12-15T19:14:21.870063",
     "exception": false,
     "start_time": "2021-12-15T19:14:21.797513",
     "status": "completed"
    },
    "tags": []
   },
   "outputs": [
    {
     "data": {
      "text/html": [
       "<div>\n",
       "<style scoped>\n",
       "    .dataframe tbody tr th:only-of-type {\n",
       "        vertical-align: middle;\n",
       "    }\n",
       "\n",
       "    .dataframe tbody tr th {\n",
       "        vertical-align: top;\n",
       "    }\n",
       "\n",
       "    .dataframe thead th {\n",
       "        text-align: right;\n",
       "    }\n",
       "</style>\n",
       "<table border=\"1\" class=\"dataframe\">\n",
       "  <thead>\n",
       "    <tr style=\"text-align: right;\">\n",
       "      <th></th>\n",
       "      <th>PassengerId</th>\n",
       "      <th>Survived</th>\n",
       "    </tr>\n",
       "  </thead>\n",
       "  <tbody>\n",
       "    <tr>\n",
       "      <th>0</th>\n",
       "      <td>892</td>\n",
       "      <td>[0]</td>\n",
       "    </tr>\n",
       "    <tr>\n",
       "      <th>1</th>\n",
       "      <td>893</td>\n",
       "      <td>[0]</td>\n",
       "    </tr>\n",
       "    <tr>\n",
       "      <th>2</th>\n",
       "      <td>894</td>\n",
       "      <td>[0]</td>\n",
       "    </tr>\n",
       "    <tr>\n",
       "      <th>3</th>\n",
       "      <td>895</td>\n",
       "      <td>[0]</td>\n",
       "    </tr>\n",
       "    <tr>\n",
       "      <th>4</th>\n",
       "      <td>896</td>\n",
       "      <td>[1]</td>\n",
       "    </tr>\n",
       "    <tr>\n",
       "      <th>...</th>\n",
       "      <td>...</td>\n",
       "      <td>...</td>\n",
       "    </tr>\n",
       "    <tr>\n",
       "      <th>413</th>\n",
       "      <td>1305</td>\n",
       "      <td>[0]</td>\n",
       "    </tr>\n",
       "    <tr>\n",
       "      <th>414</th>\n",
       "      <td>1306</td>\n",
       "      <td>[1]</td>\n",
       "    </tr>\n",
       "    <tr>\n",
       "      <th>415</th>\n",
       "      <td>1307</td>\n",
       "      <td>[0]</td>\n",
       "    </tr>\n",
       "    <tr>\n",
       "      <th>416</th>\n",
       "      <td>1308</td>\n",
       "      <td>[0]</td>\n",
       "    </tr>\n",
       "    <tr>\n",
       "      <th>417</th>\n",
       "      <td>1309</td>\n",
       "      <td>[0]</td>\n",
       "    </tr>\n",
       "  </tbody>\n",
       "</table>\n",
       "<p>418 rows × 2 columns</p>\n",
       "</div>"
      ],
      "text/plain": [
       "     PassengerId Survived\n",
       "0            892      [0]\n",
       "1            893      [0]\n",
       "2            894      [0]\n",
       "3            895      [0]\n",
       "4            896      [1]\n",
       "..           ...      ...\n",
       "413         1305      [0]\n",
       "414         1306      [1]\n",
       "415         1307      [0]\n",
       "416         1308      [0]\n",
       "417         1309      [0]\n",
       "\n",
       "[418 rows x 2 columns]"
      ]
     },
     "execution_count": 34,
     "metadata": {},
     "output_type": "execute_result"
    }
   ],
   "source": [
    "output['Survived'] = output['Survived'].astype('str')\n",
    "output"
   ]
  },
  {
   "cell_type": "code",
   "execution_count": 35,
   "id": "b4eb385e",
   "metadata": {
    "execution": {
     "iopub.execute_input": "2021-12-15T19:14:21.957811Z",
     "iopub.status.busy": "2021-12-15T19:14:21.957182Z",
     "iopub.status.idle": "2021-12-15T19:14:21.962903Z",
     "shell.execute_reply": "2021-12-15T19:14:21.962334Z",
     "shell.execute_reply.started": "2021-12-15T19:13:24.522616Z"
    },
    "papermill": {
     "duration": 0.051028,
     "end_time": "2021-12-15T19:14:21.963044",
     "exception": false,
     "start_time": "2021-12-15T19:14:21.912016",
     "status": "completed"
    },
    "tags": []
   },
   "outputs": [],
   "source": [
    "output['Survived'] = output['Survived'].apply(lambda x: x[1:-1])"
   ]
  },
  {
   "cell_type": "code",
   "execution_count": 37,
   "id": "b5982b2f",
   "metadata": {
    "execution": {
     "iopub.execute_input": "2021-12-15T19:14:22.154627Z",
     "iopub.status.busy": "2021-12-15T19:14:22.153677Z",
     "iopub.status.idle": "2021-12-15T19:14:22.159532Z",
     "shell.execute_reply": "2021-12-15T19:14:22.160171Z",
     "shell.execute_reply.started": "2021-12-15T19:13:37.790026Z"
    },
    "papermill": {
     "duration": 0.054018,
     "end_time": "2021-12-15T19:14:22.160358",
     "exception": false,
     "start_time": "2021-12-15T19:14:22.106340",
     "status": "completed"
    },
    "tags": []
   },
   "outputs": [],
   "source": [
    "output.to_csv('submission.csv', index=False)"
   ]
  }
 ],
 "metadata": {
  "kernelspec": {
   "display_name": "Python 3",
   "language": "python",
   "name": "python3"
  },
  "language_info": {
   "codemirror_mode": {
    "name": "ipython",
    "version": 3
   },
   "file_extension": ".py",
   "mimetype": "text/x-python",
   "name": "python",
   "nbconvert_exporter": "python",
   "pygments_lexer": "ipython3",
   "version": "3.7.12"
  },
  "papermill": {
   "default_parameters": {},
   "duration": 31.764149,
   "end_time": "2021-12-15T19:14:25.776990",
   "environment_variables": {},
   "exception": null,
   "input_path": "__notebook__.ipynb",
   "output_path": "__notebook__.ipynb",
   "parameters": {},
   "start_time": "2021-12-15T19:13:54.012841",
   "version": "2.3.3"
  }
 },
 "nbformat": 4,
 "nbformat_minor": 5
}
